{
 "cells": [
  {
   "cell_type": "markdown",
   "id": "7607e92f-51eb-4be0-b9b8-70035cac5ea1",
   "metadata": {},
   "source": [
    "# Tensor CUR decomposition for color video reconstruction via t-product and Mproduct"
   ]
  },
  {
   "cell_type": "markdown",
   "id": "9524d43f-9d5b-4081-a591-9512c543bb6c",
   "metadata": {},
   "source": [
    "## Extracting frames from our video "
   ]
  },
  {
   "cell_type": "code",
   "execution_count": null,
   "id": "911fe8ff-22a2-46b1-b3fc-a890363cdd17",
   "metadata": {},
   "outputs": [],
   "source": [
    "videoFile = 'Q2/video.mp4'; % Specify the name of your video file\n",
    "outputFolder = 'Q2/videoframes'; % Specify the folder where you want to save the frames\n",
    "\n",
    "% Create the output folder if it doesn't exist\n",
    "if ~exist(outputFolder, 'dir')\n",
    "    mkdir(outputFolder);\n",
    "end\n",
    "\n",
    "% Read the video file\n",
    "videoObj = VideoReader(videoFile);\n",
    "\n",
    "% Get information about the video\n",
    "numFrames = videoObj.NumberOfFrames;\n",
    "frameRate = videoObj.FrameRate;\n",
    "\n",
    "% Loop through each frame and save it as an image\n",
    "for k = 1 : numFrames\n",
    "    % Read the frame\n",
    "    frame = read(videoObj, k);\n",
    "    \n",
    "    % Generate the filename for the frame\n",
    "    frameName = sprintf('frame_%d.png', k);\n",
    "    \n",
    "    % Save the frame as an image in the output folder\n",
    "    imwrite(frame, fullfile(outputFolder, frameName));\n",
    "end\n",
    "\n",
    "disp('Frames extracted successfully.');\n"
   ]
  },
  {
   "cell_type": "markdown",
   "id": "f3a22a8f-d936-4709-a00d-3dedb55b7111",
   "metadata": {},
   "source": [
    "## FFMPEG WAS USED TO MAKE FRAME TO VEDEO"
   ]
  },
  {
   "cell_type": "code",
   "execution_count": null,
   "id": "3ae692ec-9817-424a-abb5-ea05f8f595dc",
   "metadata": {},
   "outputs": [],
   "source": []
  }
 ],
 "metadata": {
  "kernelspec": {
   "display_name": "Python 3 (ipykernel)",
   "language": "python",
   "name": "python3"
  },
  "language_info": {
   "codemirror_mode": {
    "name": "ipython",
    "version": 3
   },
   "file_extension": ".py",
   "mimetype": "text/x-python",
   "name": "python",
   "nbconvert_exporter": "python",
   "pygments_lexer": "ipython3",
   "version": "3.11.7"
  }
 },
 "nbformat": 4,
 "nbformat_minor": 5
}
